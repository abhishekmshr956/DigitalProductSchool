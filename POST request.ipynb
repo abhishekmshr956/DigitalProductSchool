{
 "cells": [
  {
   "cell_type": "code",
   "execution_count": 1,
   "id": "4e038e3b",
   "metadata": {},
   "outputs": [],
   "source": [
    "import requests"
   ]
  },
  {
   "cell_type": "code",
   "execution_count": 2,
   "id": "13964052",
   "metadata": {},
   "outputs": [],
   "source": [
    "url = \"https://dps-challenge.netlify.app/.netlify/functions/api/challenge\""
   ]
  },
  {
   "cell_type": "code",
   "execution_count": 3,
   "id": "772ee4c3",
   "metadata": {},
   "outputs": [],
   "source": [
    "data = {\n",
    "\"github\":\"https://github.com/abhishekmshr956/DigitalProductSchool\",\n",
    "\"email\":\"amishra@neuro.mpg.de\",\n",
    "\"url\":\"https://munichaccidentforecast.herokuapp.com/\", \n",
    "\"notes\":\"I made the forecast using Seasonal ARIMA model, and have deployed the app using Heroku\"\n",
    "}"
   ]
  },
  {
   "cell_type": "code",
   "execution_count": 4,
   "id": "72ac6e10",
   "metadata": {},
   "outputs": [],
   "source": [
    "response = requests.post(url, data)"
   ]
  },
  {
   "cell_type": "code",
   "execution_count": 5,
   "id": "a14113a0",
   "metadata": {},
   "outputs": [
    {
     "name": "stdout",
     "output_type": "stream",
     "text": [
      "<Response [502]>\n"
     ]
    }
   ],
   "source": [
    "print(response)"
   ]
  },
  {
   "cell_type": "code",
   "execution_count": null,
   "id": "ef887567",
   "metadata": {},
   "outputs": [],
   "source": []
  }
 ],
 "metadata": {
  "kernelspec": {
   "display_name": "Python 3",
   "language": "python",
   "name": "python3"
  },
  "language_info": {
   "codemirror_mode": {
    "name": "ipython",
    "version": 3
   },
   "file_extension": ".py",
   "mimetype": "text/x-python",
   "name": "python",
   "nbconvert_exporter": "python",
   "pygments_lexer": "ipython3",
   "version": "3.8.8"
  }
 },
 "nbformat": 4,
 "nbformat_minor": 5
}
